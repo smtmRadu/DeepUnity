{
 "cells": [
  {
   "cell_type": "code",
   "execution_count": 1,
   "id": "11d0e593",
   "metadata": {},
   "outputs": [
    {
     "name": "stderr",
     "output_type": "stream",
     "text": [
      "W0830 17:49:06.042000 6848 site-packages\\torch\\distributed\\elastic\\multiprocessing\\redirects.py:29] NOTE: Redirects are currently not supported in Windows or MacOs.\n"
     ]
    }
   ],
   "source": [
    "from transformers import AutoModelForCausalLM\n",
    "\n",
    "from transformers import AutoTokenizer\n",
    "import torch\n",
    "\n",
    "\n",
    "model = AutoModelForCausalLM.from_pretrained(\"google/gemma-3-270m\")\n",
    "\n",
    "\n",
    "tokenizer = AutoTokenizer.from_pretrained(\"google/gemma-3-270m\")\n",
    "\n"
   ]
  },
  {
   "cell_type": "code",
   "execution_count": 4,
   "id": "c5f05dd5",
   "metadata": {},
   "outputs": [
    {
     "name": "stdout",
     "output_type": "stream",
     "text": [
      "Parameter containing:\n",
      "tensor([[-7.3242e-03,  4.2969e-02, -3.4180e-02,  ...,  1.2390e-02,\n",
      "          6.2561e-04, -1.7334e-02],\n",
      "        [ 2.2705e-02, -6.1035e-02, -9.2285e-02,  ..., -4.8828e-03,\n",
      "          7.0312e-02, -1.7456e-02],\n",
      "        [-1.4282e-02,  1.0681e-02,  1.3367e-02,  ..., -6.0730e-03,\n",
      "          3.1128e-03, -7.0312e-02],\n",
      "        ...,\n",
      "        [-7.2937e-03,  4.2236e-02, -3.3936e-02,  ...,  1.2512e-02,\n",
      "          3.9482e-04, -1.7334e-02],\n",
      "        [-7.7515e-03,  4.3457e-02, -3.4424e-02,  ...,  1.2756e-02,\n",
      "          3.2663e-05, -1.7090e-02],\n",
      "        [-7.5073e-03,  4.3213e-02, -3.4912e-02,  ...,  1.2573e-02,\n",
      "          6.1989e-05, -1.7090e-02]], requires_grad=True)\n"
     ]
    }
   ],
   "source": [
    "print(model._modules[\"model\"].embed_tokens.weight)"
   ]
  },
  {
   "cell_type": "code",
   "execution_count": null,
   "id": "fad095bc",
   "metadata": {},
   "outputs": [],
   "source": [
    "print(model._modules[\"embedding\"])\n",
    "\n",
    "# Prepare input\n",
    "text = \"Hi Gemma!\"\n",
    "inputs = tokenizer(text, return_tensors=\"pt\")\n",
    "print(inputs)\n",
    "\n",
    "# Forward pass with hidden states\n",
    "with torch.no_grad():\n",
    "    outputs = model(**inputs, output_hidden_states=True)\n",
    "\n",
    "# Extract hidden states\n",
    "hidden_states = outputs.hidden_states  # Tuple of all layer outputs\n",
    "print(f\"Number of layers: {len(hidden_states)}\")\n",
    "print(f\"Shape of each hidden state: {hidden_states[0].shape}\")  # [batch, seq_len, hidden_dim]\n",
    "\n",
    "# Look at specific layers\n",
    "print(f\"Input embeddings: {hidden_states[0][0, 0, :5]}\")  # Last token, first 5 dims\n",
    "print(f\"After layer 1: {hidden_states[1][0, 0, :5]}\")\n",
    "print(f\"After layer 2: {hidden_states[2][0, 0, :5]}\")\n",
    "print(f\"Final layer output: {hidden_states[-1][0, 0, :5]}\")"
   ]
  },
  {
   "cell_type": "code",
   "execution_count": null,
   "id": "a44116dc",
   "metadata": {},
   "outputs": [],
   "source": [
    "model._modules[\"model\"]\n",
    "lm_head = model._modules[\"lm_head\"].weight.flatten().tolist()\n",
    "with open(\"gemma-3-270M/lm_head.txt\", \"w\") as f:\n",
    "    for w in lm_head:\n",
    "        f.write(f\"{w}\\n\")"
   ]
  },
  {
   "cell_type": "code",
   "execution_count": null,
   "id": "ac5c0e32",
   "metadata": {},
   "outputs": [],
   "source": [
    "vars(model)"
   ]
  },
  {
   "cell_type": "code",
   "execution_count": null,
   "id": "23a3d372",
   "metadata": {},
   "outputs": [],
   "source": []
  },
  {
   "cell_type": "code",
   "execution_count": null,
   "id": "c4f7ab14",
   "metadata": {},
   "outputs": [],
   "source": [
    "id2token = {id_: tok for tok, id_ in tok.get_vocab().items()}\n",
    "id2token = \n",
    "print({k: id2token[k] for k in list(id2token)[:10]})"
   ]
  },
  {
   "cell_type": "code",
   "execution_count": null,
   "id": "9b11eab0",
   "metadata": {},
   "outputs": [],
   "source": [
    "from transformers import AutoTokenizer\n",
    "tok = AutoTokenizer.from_pretrained(\"google/gemma-3-270m\")\n",
    "print(len(tok))"
   ]
  },
  {
   "cell_type": "code",
   "execution_count": null,
   "id": "c6c94b6f",
   "metadata": {},
   "outputs": [],
   "source": [
    "\n",
    "token2id = tok.get_vocab() \n",
    "\n",
    "# sort by value\n",
    "token2id = dict(sorted(token2id.items(), key=lambda item: item[1]))\n",
    "import json\n",
    "with open(\"GemmaTokenizerFast.json\", \"w\") as f:\n",
    "    json.dump(token2id, f, indent=4)"
   ]
  },
  {
   "cell_type": "code",
   "execution_count": null,
   "id": "c72b0bf0",
   "metadata": {},
   "outputs": [],
   "source": [
    "from flashml.inspect import inspect_tokenizer\n",
    "\n",
    "inspect_tokenizer(tok)"
   ]
  },
  {
   "cell_type": "code",
   "execution_count": null,
   "id": "5eea75de",
   "metadata": {},
   "outputs": [],
   "source": [
    "\n",
    "x = \"Hello there martin, here's your special delight zone!\"\n",
    "\n",
    "tok.encode(x)"
   ]
  }
 ],
 "metadata": {
  "kernelspec": {
   "display_name": "ml",
   "language": "python",
   "name": "python3"
  },
  "language_info": {
   "codemirror_mode": {
    "name": "ipython",
    "version": 3
   },
   "file_extension": ".py",
   "mimetype": "text/x-python",
   "name": "python",
   "nbconvert_exporter": "python",
   "pygments_lexer": "ipython3",
   "version": "3.12.9"
  }
 },
 "nbformat": 4,
 "nbformat_minor": 5
}
