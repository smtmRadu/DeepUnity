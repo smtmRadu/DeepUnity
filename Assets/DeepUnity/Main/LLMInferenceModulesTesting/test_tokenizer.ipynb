{
 "cells": [
  {
   "cell_type": "code",
   "execution_count": 1,
   "id": "45e4680a",
   "metadata": {},
   "outputs": [],
   "source": [
    "from transformers import AutoTokenizer\n",
    "\n",
    "\n",
    "tok = AutoTokenizer.from_pretrained(\"Qwen/Qwen3-4B\")\n"
   ]
  },
  {
   "cell_type": "code",
   "execution_count": 2,
   "id": "9c9bcd29",
   "metadata": {},
   "outputs": [
    {
     "data": {
      "text/plain": [
       "[9707, 1052, 94916, 11, 1588, 594, 697, 3281, 17970, 10143, 2127, 0]"
      ]
     },
     "execution_count": 2,
     "metadata": {},
     "output_type": "execute_result"
    }
   ],
   "source": [
    "tok.encode(\"Hello there martin, here's your special delight zoneee!\")"
   ]
  },
  {
   "cell_type": "code",
   "execution_count": 3,
   "id": "0b5980ad",
   "metadata": {},
   "outputs": [],
   "source": [
    "from flashml.inspect import inspect_tokenizer\n",
    "\n",
    "\n",
    "inspect_tokenizer(tok)"
   ]
  },
  {
   "cell_type": "code",
   "execution_count": 11,
   "id": "52370798",
   "metadata": {},
   "outputs": [
    {
     "data": {
      "text/plain": [
       "'<|im_start|>system\\nYou are<|im_end|>\\n<|im_start|>user\\nbroo<|im_end|>\\n<|im_start|>assistant\\n'"
      ]
     },
     "execution_count": 11,
     "metadata": {},
     "output_type": "execute_result"
    }
   ],
   "source": [
    "messages = [\n",
    "    {\n",
    "        'role':'system',\n",
    "        'content': \"You are\"\n",
    "    },\n",
    "    {\n",
    "        'role':'user',\n",
    "        \"content\":\"broo\"\n",
    "    },\n",
    "\n",
    "]\n",
    "\n",
    "toks = tok.apply_chat_template(messages, add_generation_prompt=True)\n",
    "tok.decode(toks)"
   ]
  }
 ],
 "metadata": {
  "kernelspec": {
   "display_name": "ml",
   "language": "python",
   "name": "python3"
  },
  "language_info": {
   "codemirror_mode": {
    "name": "ipython",
    "version": 3
   },
   "file_extension": ".py",
   "mimetype": "text/x-python",
   "name": "python",
   "nbconvert_exporter": "python",
   "pygments_lexer": "ipython3",
   "version": "3.12.9"
  }
 },
 "nbformat": 4,
 "nbformat_minor": 5
}
