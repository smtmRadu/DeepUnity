{
 "cells": [
  {
   "cell_type": "code",
   "execution_count": null,
   "id": "a665ca51",
   "metadata": {},
   "outputs": [],
   "source": [
    "from transformers import AutoModelForCausalLM\n",
    "import torch\n",
    "\n",
    "model = AutoModelForCausalLM.from_pretrained(\"google/gemma-3-270m\")\n",
    "\n",
    "from flashml.legacy import inspect_model\n",
    "\n",
    "inspect_model(model )"
   ]
  },
  {
   "cell_type": "markdown",
   "id": "0399aa11",
   "metadata": {},
   "source": [
    "### Save LMHead + norm (6 different files)"
   ]
  },
  {
   "cell_type": "code",
   "execution_count": null,
   "id": "c1243b39",
   "metadata": {},
   "outputs": [],
   "source": [
    "import math\n",
    "import os\n",
    "import torch\n",
    "import numpy as np\n",
    "from tqdm import tqdm\n",
    "model._modules[\"model\"]\n",
    "\n",
    "norm = model._modules[\"model\"].norm\n",
    "with open(f\"params/norm.bin\", \"wb\")as f:\n",
    "    f.write(norm.weight.detach().cpu().numpy().astype(np.float32).tobytes())\n",
    "\n",
    "\n",
    "lm_head = model._modules[\"lm_head\"].weight.detach()\n",
    "lm_head_flat = lm_head.flatten()\n",
    "\n",
    "os.makedirs(\"params/lm_head\", exist_ok=True)\n",
    "\n",
    "num_chunks = 14\n",
    "chunks = torch.chunk(lm_head_flat, num_chunks)\n",
    "\n",
    "for idx, chunk in enumerate(chunks):\n",
    "    # Convert to float32 numpy array\n",
    "    np_chunk = chunk.cpu().numpy().astype('float32')\n",
    "    \n",
    "    # Write raw binary\n",
    "    with open(f\"params/lm_head/part_{idx}.bin\", \"wb\") as f:\n",
    "        f.write(np_chunk.tobytes())\n",
    "    \n",
    "    print(f\"Saved chunk {idx} with {np_chunk.size} weights\")"
   ]
  },
  {
   "cell_type": "markdown",
   "id": "050fefc5",
   "metadata": {},
   "source": [
    "### Save layers modules\n"
   ]
  },
  {
   "cell_type": "code",
   "execution_count": null,
   "id": "c35ada45",
   "metadata": {},
   "outputs": [],
   "source": [
    "import os\n",
    "import numpy as np\n",
    "from tqdm import tqdm\n",
    "for idx, layer in tqdm(enumerate(model._modules[\"model\"].layers)):\n",
    "    self_attn = layer.self_attn\n",
    "    mlp = layer.mlp\n",
    "    input_layernorm = layer.input_layernorm\n",
    "    post_attention_layernorm = layer.post_attention_layernorm\n",
    "    pre_feedforward_layernorm = layer.pre_feedforward_layernorm\n",
    "    post_feedforward_layernorm = layer.post_feedforward_layernorm\n",
    "    \n",
    "    os.makedirs(f\"params/layer_{idx}\", exist_ok = True)\n",
    "    \n",
    "    # ================================================================ GQA =====================================================\n",
    "    with open(f\"params/layer_{idx}/self_attn_q_proj.bin\", \"wb\")as f:\n",
    "        f.write(self_attn.q_proj.weight.detach().flatten().cpu().numpy().astype(np.float32).tobytes())\n",
    "        \n",
    "    with open(f\"params/layer_{idx}/self_attn_k_proj.bin\", \"wb\")as f:\n",
    "        f.write(self_attn.k_proj.weight.detach().flatten().cpu().numpy().astype(np.float32).tobytes())\n",
    "        \n",
    "    with open(f\"params/layer_{idx}/self_attn_v_proj.bin\", \"wb\")as f:\n",
    "        f.write(self_attn.v_proj.weight.detach().flatten().cpu().numpy().astype(np.float32).tobytes())\n",
    "    with open(f\"params/layer_{idx}/self_attn_o_proj.bin\", \"wb\")as f:\n",
    "        f.write(self_attn.o_proj.weight.detach().flatten().cpu().numpy().astype(np.float32).tobytes())\n",
    "        \n",
    "    with open(f\"params/layer_{idx}/self_attn_q_norm.bin\", \"wb\")as f:\n",
    "        f.write(self_attn.q_norm.weight.detach().flatten().cpu().numpy().astype(np.float32).tobytes())\n",
    "    with open(f\"params/layer_{idx}/self_attn_k_norm.bin\", \"wb\")as f:\n",
    "        f.write(self_attn.k_norm.weight.detach().flatten().cpu().numpy().astype(np.float32).tobytes())\n",
    "        \n",
    "    \n",
    "    # =============================================================== MLP ======================================================\n",
    "    with open(f\"params/layer_{idx}/mlp_gate_proj.bin\", \"wb\")as f:\n",
    "        f.write(mlp.gate_proj.weight.detach().cpu().flatten().numpy().astype(np.float32).tobytes())\n",
    "    with open(f\"params/layer_{idx}/mlp_up_proj.bin\", \"wb\")as f:\n",
    "        f.write(mlp.up_proj.weight.detach().cpu().flatten().numpy().astype(np.float32).tobytes())\n",
    "    with open(f\"params/layer_{idx}/mlp_down_proj.bin\", \"wb\")as f:\n",
    "        f.write(mlp.down_proj.weight.detach().cpu().flatten().numpy().astype(np.float32).tobytes())\n",
    "        \n",
    "    # ================================================================ RMS =====================================================\n",
    "    with open(f\"params/layer_{idx}/input_layernorm.bin\", \"wb\")as f:\n",
    "        f.write(input_layernorm.weight.detach().cpu().flatten().numpy().astype(np.float32).tobytes())\n",
    "    with open(f\"params/layer_{idx}/post_attention_layernorm.bin\", \"wb\")as f:\n",
    "        f.write(post_attention_layernorm.weight.detach().cpu().flatten().numpy().astype(np.float32).tobytes())\n",
    "    with open(f\"params/layer_{idx}/pre_feedforward_layernorm.bin\", \"wb\")as f:\n",
    "        f.write(pre_feedforward_layernorm.weight.detach().cpu().flatten().numpy().astype(np.float32).tobytes())  \n",
    "    with open(f\"params/layer_{idx}/post_feedforward_layernorm.bin\", \"wb\")as f:\n",
    "        f.write(post_feedforward_layernorm.weight.detach().cpu().flatten().numpy().astype(np.float32).tobytes())\n",
    "        \n",
    "    # print(vars(layer))"
   ]
  }
 ],
 "metadata": {
  "kernelspec": {
   "display_name": "ml",
   "language": "python",
   "name": "python3"
  },
  "language_info": {
   "codemirror_mode": {
    "name": "ipython",
    "version": 3
   },
   "file_extension": ".py",
   "mimetype": "text/x-python",
   "name": "python",
   "nbconvert_exporter": "python",
   "pygments_lexer": "ipython3",
   "version": "3.12.9"
  }
 },
 "nbformat": 4,
 "nbformat_minor": 5
}
